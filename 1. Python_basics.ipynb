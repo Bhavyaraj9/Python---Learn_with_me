{
 "cells": [
  {
   "cell_type": "markdown",
   "id": "91866c3d",
   "metadata": {},
   "source": [
    "## Python \n",
    "Python is the high level,  interpreted programming language. You don't need to compile it before running. It is created by Guido van Rossum and released in 1991. Its free and open source. Generally used in building web application and Data science."
   ]
  },
  {
   "cell_type": "markdown",
   "id": "8704cdac",
   "metadata": {},
   "source": [
    "## Anaconda\n",
    "\n",
    "Anaconda is a popular open source distribution for python and R. It is designed especially for data science, machine learning and scientific computing. It simplifies package management and deployment by providing pre installed libraries. It is an environment manager. "
   ]
  },
  {
   "cell_type": "markdown",
   "id": "8a4846bf",
   "metadata": {},
   "source": [
    "#### To create a python environment we write this command -:\n",
    "conda create -p venv python==3.12"
   ]
  },
  {
   "cell_type": "markdown",
   "id": "42fca986",
   "metadata": {},
   "source": [
    "### After install the venv we have to activate it by using this -:\n",
    "conda activate venv/"
   ]
  },
  {
   "cell_type": "markdown",
   "id": "900a6bf5",
   "metadata": {},
   "source": [
    "#### After then it detect a kernel, So you have to install a ipykernel package-:\n",
    "\n",
    "pip install ipykernel"
   ]
  },
  {
   "cell_type": "markdown",
   "id": "2fbce01e",
   "metadata": {},
   "source": [
    "### ipykernel \n",
    "ipykernel is a core component used to run a python code in jupyter notebook."
   ]
  },
  {
   "cell_type": "markdown",
   "id": "c7ef2f71",
   "metadata": {},
   "source": [
    "### Jupyter notebook\n",
    "\n",
    "Its basically an open source integrated development environment where you can write and run code, visualize data and add notes all in one place."
   ]
  },
  {
   "cell_type": "markdown",
   "id": "fb62316f",
   "metadata": {},
   "source": [
    "What do you mean by syntax and semantics?\n",
    "\n"
   ]
  },
  {
   "cell_type": "markdown",
   "id": "0b0f3a9d",
   "metadata": {},
   "source": [
    "\n"
   ]
  },
  {
   "cell_type": "markdown",
   "id": "57e77bdf",
   "metadata": {},
   "source": []
  }
 ],
 "metadata": {
  "kernelspec": {
   "display_name": "Python 3",
   "language": "python",
   "name": "python3"
  },
  "language_info": {
   "codemirror_mode": {
    "name": "ipython",
    "version": 3
   },
   "file_extension": ".py",
   "mimetype": "text/x-python",
   "name": "python",
   "nbconvert_exporter": "python",
   "pygments_lexer": "ipython3",
   "version": "3.12.0"
  }
 },
 "nbformat": 4,
 "nbformat_minor": 5
}
