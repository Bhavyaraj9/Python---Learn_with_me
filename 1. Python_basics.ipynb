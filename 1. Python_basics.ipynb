{
 "cells": [
  {
   "cell_type": "markdown",
   "id": "91866c3d",
   "metadata": {},
   "source": [
    "## Python \n",
    "Python is the high level,  interpreted programming language. You don't need to compile it before running. It is created by Guido van Rossum and released in 1991. Its free and open source. Generally used in building web application and Data science."
   ]
  },
  {
   "cell_type": "markdown",
   "id": "8704cdac",
   "metadata": {},
   "source": [
    "## Anaconda\n",
    "\n",
    "Anaconda is a popular open source distribution for python and R. It is designed especially for data science, machine learning and scientific computing. It simplifies package management and deployment by providing pre installed libraries. It is an environment manager. "
   ]
  },
  {
   "cell_type": "markdown",
   "id": "8a4846bf",
   "metadata": {},
   "source": [
    "#### To create a python environment we write this command -:\n",
    "conda create -p venv python==3.12"
   ]
  },
  {
   "cell_type": "markdown",
   "id": "42fca986",
   "metadata": {},
   "source": [
    "### After install the venv we have to activate it by using this -:\n",
    "conda activate venv/"
   ]
  },
  {
   "cell_type": "markdown",
   "id": "900a6bf5",
   "metadata": {},
   "source": [
    "#### After then it detect a kernel, So you have to install a ipykernel package-:\n",
    "\n",
    "pip install ipykernel"
   ]
  },
  {
   "cell_type": "markdown",
   "id": "2fbce01e",
   "metadata": {},
   "source": [
    "### ipykernel \n",
    "ipykernel is a core component used to run a python code in jupyter notebook."
   ]
  },
  {
   "cell_type": "markdown",
   "id": "c7ef2f71",
   "metadata": {},
   "source": [
    "### Jupyter notebook\n",
    "\n",
    "Its basically an open source integrated development environment where you can write and run code, visualize data and add notes all in one place."
   ]
  },
  {
   "cell_type": "markdown",
   "id": "fb62316f",
   "metadata": {},
   "source": [
    "Q. What do you mean by syntax and semantics?\n",
    "\n",
    "Syntax refers to the rules and structure of how code must be written, so that the compiler and interpreter can understand it. Basically its the correct arrangement of words and symbols in a code. In other hand semantics refer to the meaning of the words/code that what it is supposed to do. "
   ]
  },
  {
   "cell_type": "markdown",
   "id": "0b0f3a9d",
   "metadata": {},
   "source": [
    "Q. How to write comment and mutliline comment in python? \n",
    "\n",
    "##this is used for single line comment\n",
    "\n",
    "\n",
    "''' \n",
    "this is for multiline comments \n",
    "'''\n",
    "\n",
    "\n",
    "\n"
   ]
  },
  {
   "cell_type": "markdown",
   "id": "57e77bdf",
   "metadata": {},
   "source": [
    "\n",
    "=> Python is Case Sensitive means the system can treats uppercase and lowercase letters differently.\n"
   ]
  },
  {
   "cell_type": "markdown",
   "id": "b8e3cbf2",
   "metadata": {},
   "source": [
    "\n",
    "### Identation \n",
    "\n",
    "Python uses indentation to defines blocks of code. Consistent used of spaces (commonly 4 or tab required).\n",
    "\n",
    "Identation is used to define the structure and heirarachy of the code. Unlike many other programming that use {} braces to delimit block of code. Python uses indentation to determine the grouping of statements. This means all the statements within a block must be indented at same level. \n"
   ]
  },
  {
   "cell_type": "code",
   "execution_count": 4,
   "id": "179a43ec",
   "metadata": {},
   "outputs": [
    {
     "name": "stdout",
     "output_type": "stream",
     "text": [
      "32\n"
     ]
    }
   ],
   "source": [
    "## Example Identation\n",
    "\n",
    "age=32\n",
    "if age>30:\n",
    "    print(age)\n",
    "\n",
    "\n",
    "\n"
   ]
  },
  {
   "cell_type": "code",
   "execution_count": 5,
   "id": "a64e6fe9",
   "metadata": {},
   "outputs": [
    {
     "name": "stdout",
     "output_type": "stream",
     "text": [
      "Correct indentation\n",
      "this will print\n",
      "Outside the if block\n"
     ]
    }
   ],
   "source": [
    "## Code example of indentation\n",
    "\n",
    "if True:\n",
    "    print(\"Correct indentation\")\n",
    "    if False:\n",
    "        print(\"This is not print\")\n",
    "    print(\"this will print\")\n",
    "    print(\"Outside the if block\")\n"
   ]
  },
  {
   "cell_type": "code",
   "execution_count": 2,
   "id": "0a6aba17",
   "metadata": {},
   "outputs": [
    {
     "name": "stdout",
     "output_type": "stream",
     "text": [
      "45\n"
     ]
    }
   ],
   "source": [
    "## Line continuation\n",
    "\n",
    "total= 1+2+3+4+5+6+7+\\\n",
    "8+9\n",
    "\n",
    "print(total)"
   ]
  },
  {
   "cell_type": "code",
   "execution_count": 3,
   "id": "f2df40c0",
   "metadata": {},
   "outputs": [
    {
     "name": "stdout",
     "output_type": "stream",
     "text": [
      "6\n"
     ]
    }
   ],
   "source": [
    "## Add Mutiple statement on a single line \n",
    "\n",
    "x=5;y=3;z=6\n",
    "\n",
    "print(z)"
   ]
  },
  {
   "cell_type": "code",
   "execution_count": 7,
   "id": "d245ed18",
   "metadata": {},
   "outputs": [],
   "source": [
    "## understand Semantics \n",
    "\n",
    "age=22   ##age is integer\n",
    "\n",
    "name=\"bhavya\"  ## name is string\n"
   ]
  },
  {
   "cell_type": "code",
   "execution_count": null,
   "id": "6603a4b1",
   "metadata": {},
   "outputs": [],
   "source": [
    "\n",
    "## Type inference\n",
    "\n",
    "variable=10\n",
    "print(type(variable))\n",
    "\n",
    "name=\"bhavyaraj\"\n",
    "print(type(name))"
   ]
  },
  {
   "cell_type": "markdown",
   "id": "9eb54c59",
   "metadata": {},
   "source": [
    "## Variables \n",
    "\n",
    "Variables are the fundamental elements in programming used to store data. Basically works as labels of the data. In python you don't need to explicitly state the variable because it automatically state the type of data when you asssign a value to it. "
   ]
  },
  {
   "cell_type": "code",
   "execution_count": 3,
   "id": "b26f5eb9",
   "metadata": {},
   "outputs": [
    {
     "name": "stdout",
     "output_type": "stream",
     "text": [
      "<class 'int'>\n",
      "<class 'str'>\n"
     ]
    }
   ],
   "source": [
    "## Example of variable\n",
    "\n",
    "age=22\n",
    "print(type(age))\n",
    "\n",
    "name=\"bhavyaraj\"\n",
    "print(type(name))"
   ]
  },
  {
   "cell_type": "markdown",
   "id": "3f41323f",
   "metadata": {},
   "source": [
    "### Data Types\n",
    "\n",
    "Data types are the classification of data. They determine the type of operation that can be performed on the data and the amount of memory needed to store the data.\n",
    "\n",
    "=> Importance of data type:-\n",
    "Data type ensures the data stored in efficient way.\n",
    "They help performing the current operation on data.\n",
    "Proper use of data types can prevent bugs and errors in program.\n",
    "\n"
   ]
  },
  {
   "cell_type": "code",
   "execution_count": 7,
   "id": "ac2107cd",
   "metadata": {},
   "outputs": [
    {
     "name": "stdout",
     "output_type": "stream",
     "text": [
      "<class 'int'>\n",
      "<class 'str'>\n",
      "<class 'float'>\n"
     ]
    }
   ],
   "source": [
    "## Example of data types\n",
    "\n",
    "age=32\n",
    "print(type(age))\n",
    "\n",
    "name=\"Sourabh\"\n",
    "print(type(name))\n",
    "\n",
    "number=1.19\n",
    "print(type(number))\n"
   ]
  }
 ],
 "metadata": {
  "kernelspec": {
   "display_name": "Python 3",
   "language": "python",
   "name": "python3"
  },
  "language_info": {
   "codemirror_mode": {
    "name": "ipython",
    "version": 3
   },
   "file_extension": ".py",
   "mimetype": "text/x-python",
   "name": "python",
   "nbconvert_exporter": "python",
   "pygments_lexer": "ipython3",
   "version": "3.12.0"
  }
 },
 "nbformat": 4,
 "nbformat_minor": 5
}
