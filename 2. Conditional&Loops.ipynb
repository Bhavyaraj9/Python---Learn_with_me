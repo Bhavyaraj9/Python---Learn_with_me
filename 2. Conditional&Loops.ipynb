{
 "cells": [
  {
   "cell_type": "markdown",
   "id": "bee976ac",
   "metadata": {},
   "source": [
    "## Conditional Statements \n",
    "\n",
    "The conditional statement used in programming for execution of specific code whether the condition is true or false.\n",
    "\n",
    "There are type of conidtional statements - \n",
    "\n",
    "-> If statement\n",
    "-> Else statement\n",
    "-> Elif means else if\n",
    "-> Nested conditional statements"
   ]
  },
  {
   "cell_type": "code",
   "execution_count": 11,
   "id": "221aa3e3",
   "metadata": {},
   "outputs": [
    {
     "name": "stdout",
     "output_type": "stream",
     "text": [
      "You are tiny\n"
     ]
    }
   ],
   "source": [
    "## Examples\n",
    "\n",
    "age=int(input(\"What is your age\"))\n",
    "\n",
    "if age>=18:\n",
    "    print(\"You are young\")\n",
    "else:\n",
    "    print(\"You are tiny\")"
   ]
  },
  {
   "cell_type": "code",
   "execution_count": 15,
   "id": "d451af00",
   "metadata": {},
   "outputs": [
    {
     "name": "stdout",
     "output_type": "stream",
     "text": [
      "Number is even\n"
     ]
    }
   ],
   "source": [
    "##Example 2\n",
    "\n",
    "number=int(input(\"Enter the number\"))\n",
    "\n",
    "if number==0:\n",
    "    print(\"Game over\")\n",
    "elif number%2==0:\n",
    "    print(\"Number is even\")\n",
    "else:\n",
    "    print(\"Number is odd\")"
   ]
  },
  {
   "cell_type": "code",
   "execution_count": null,
   "id": "3ce792ac",
   "metadata": {},
   "outputs": [
    {
     "name": "stdout",
     "output_type": "stream",
     "text": [
      "Sorry no operation\n"
     ]
    }
   ],
   "source": [
    "##Example3\n",
    "\n",
    "no1=int(input(\"Enter first number\"))\n",
    "no2=int(input(\"Enter second number\"))\n",
    "operation=input(\"Enter operation\")\n",
    "\n",
    "if operation== '+':\n",
    "    print(no1+no2)\n",
    "elif operation=='-':\n",
    "    print(no1-no2)\n",
    "elif operation=='*':\n",
    "    print(no1*no2)\n",
    "elif operation=='/':\n",
    "    print(no1/no2)\n",
    "else: \n",
    "    print(\"Sorry no operation\")\n"
   ]
  },
  {
   "cell_type": "code",
   "execution_count": 22,
   "id": "4ebdd40a",
   "metadata": {},
   "outputs": [
    {
     "name": "stdout",
     "output_type": "stream",
     "text": [
      "Wrong credential\n"
     ]
    }
   ],
   "source": [
    "##Example4 - Password auth\n",
    "\n",
    "user=\"Bhavya\"\n",
    "password= 999\n",
    "\n",
    "\n",
    "username=input(\"Enter you username\")\n",
    "password=input(\"Enter your password\")\n",
    "\n",
    "if username!=user:\n",
    "    print(\"Wrong credential\")\n",
    "elif password!= password:\n",
    "    print(\"Wrong password\")\n",
    "else:\n",
    "    print(\"Welcome\")   "
   ]
  },
  {
   "cell_type": "markdown",
   "id": "5345b073",
   "metadata": {},
   "source": [
    "## LOOPS\n",
    "\n"
   ]
  }
 ],
 "metadata": {
  "kernelspec": {
   "display_name": "Python 3",
   "language": "python",
   "name": "python3"
  },
  "language_info": {
   "codemirror_mode": {
    "name": "ipython",
    "version": 3
   },
   "file_extension": ".py",
   "mimetype": "text/x-python",
   "name": "python",
   "nbconvert_exporter": "python",
   "pygments_lexer": "ipython3",
   "version": "3.12.0"
  }
 },
 "nbformat": 4,
 "nbformat_minor": 5
}
