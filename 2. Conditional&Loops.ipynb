{
 "cells": [
  {
   "cell_type": "markdown",
   "id": "bee976ac",
   "metadata": {},
   "source": [
    "## Conditional Statements \n",
    "\n",
    "The conditional statement used in programming for execution of specific code whether the condition is true or false.\n",
    "\n",
    "There are type of conidtional statements - \n",
    "\n",
    "-> If statement\\\n",
    "-> Else statement\\\n",
    "-> Elif means else if\\\n",
    "-> Nested conditional statements"
   ]
  },
  {
   "cell_type": "code",
   "execution_count": 11,
   "id": "221aa3e3",
   "metadata": {},
   "outputs": [
    {
     "name": "stdout",
     "output_type": "stream",
     "text": [
      "You are tiny\n"
     ]
    }
   ],
   "source": [
    "## Examples\n",
    "\n",
    "age=int(input(\"What is your age\"))\n",
    "\n",
    "if age>=18:\n",
    "    print(\"You are young\")\n",
    "else:\n",
    "    print(\"You are tiny\")"
   ]
  },
  {
   "cell_type": "code",
   "execution_count": 15,
   "id": "d451af00",
   "metadata": {},
   "outputs": [
    {
     "name": "stdout",
     "output_type": "stream",
     "text": [
      "Number is even\n"
     ]
    }
   ],
   "source": [
    "##Example 2\n",
    "\n",
    "number=int(input(\"Enter the number\"))\n",
    "\n",
    "if number==0:\n",
    "    print(\"Game over\")\n",
    "elif number%2==0:\n",
    "    print(\"Number is even\")\n",
    "else:\n",
    "    print(\"Number is odd\")"
   ]
  },
  {
   "cell_type": "code",
   "execution_count": 18,
   "id": "3ce792ac",
   "metadata": {},
   "outputs": [
    {
     "name": "stdout",
     "output_type": "stream",
     "text": [
      "Sorry no operation\n"
     ]
    }
   ],
   "source": [
    "##Example3\n",
    "\n",
    "no1=int(input(\"Enter first number\"))\n",
    "no2=int(input(\"Enter second number\"))\n",
    "operation=input(\"Enter operation\")\n",
    "\n",
    "if operation== '+':\n",
    "    print(no1+no2)\n",
    "elif operation=='-':\n",
    "    print(no1-no2)\n",
    "elif operation=='*':\n",
    "    print(no1*no2)\n",
    "elif operation=='/':\n",
    "    print(no1/no2)\n",
    "else: \n",
    "    print(\"Sorry no operation\")\n"
   ]
  },
  {
   "cell_type": "code",
   "execution_count": 22,
   "id": "4ebdd40a",
   "metadata": {},
   "outputs": [
    {
     "name": "stdout",
     "output_type": "stream",
     "text": [
      "Wrong credential\n"
     ]
    }
   ],
   "source": [
    "##Example4 - Password auth\n",
    "\n",
    "user=\"Bhavya\"\n",
    "password= 999\n",
    "\n",
    "\n",
    "username=input(\"Enter you username\")\n",
    "password=input(\"Enter your password\")\n",
    "\n",
    "if username!=user:\n",
    "    print(\"Wrong credential\")\n",
    "elif password!= password:\n",
    "    print(\"Wrong password\")\n",
    "else:\n",
    "    print(\"Welcome\")   "
   ]
  },
  {
   "cell_type": "markdown",
   "id": "5345b073",
   "metadata": {},
   "source": [
    "## LOOPS\n",
    "\n",
    "Loops are the control flow statement used to repeatedly executes a block of code.\n",
    "\n",
    "Types of loops are:\n",
    "\n",
    "-> for loop - It is used to iterate over an array or range.\\\n",
    "-> while loop - It executes a specific code as long as the given condition is true.\n"
   ]
  },
  {
   "cell_type": "code",
   "execution_count": 8,
   "id": "ad1dc04a",
   "metadata": {},
   "outputs": [
    {
     "name": "stdout",
     "output_type": "stream",
     "text": [
      "0\n",
      "1\n",
      "2\n",
      "3\n",
      "4\n"
     ]
    }
   ],
   "source": [
    "##Example\n",
    "\n",
    "range(5)\n",
    "\n",
    "for i in range(5):\n",
    "    print(i)"
   ]
  },
  {
   "cell_type": "code",
   "execution_count": 25,
   "id": "62d9ca56",
   "metadata": {},
   "outputs": [
    {
     "name": "stdout",
     "output_type": "stream",
     "text": [
      "10\n",
      "9\n",
      "8\n",
      "7\n",
      "6\n",
      "5\n",
      "4\n",
      "3\n",
      "2\n",
      "1\n"
     ]
    }
   ],
   "source": [
    "for i in range(10,0,-1):\n",
    "    print(i)"
   ]
  },
  {
   "cell_type": "code",
   "execution_count": 26,
   "id": "04ab6aaf",
   "metadata": {},
   "outputs": [
    {
     "name": "stdout",
     "output_type": "stream",
     "text": [
      "b\n",
      "h\n",
      "a\n",
      "v\n",
      "y\n",
      "a\n",
      "r\n",
      "a\n",
      "j\n",
      " \n",
      "s\n",
      "i\n",
      "n\n",
      "g\n",
      "h\n"
     ]
    }
   ],
   "source": [
    "name=\"bhavyaraj singh\"\n",
    "for i in name:\n",
    "    print(i)"
   ]
  },
  {
   "cell_type": "code",
   "execution_count": 28,
   "id": "67374cae",
   "metadata": {},
   "outputs": [
    {
     "name": "stdout",
     "output_type": "stream",
     "text": [
      "0\n",
      "1\n",
      "2\n",
      "3\n",
      "4\n",
      "5\n",
      "6\n",
      "7\n",
      "8\n",
      "9\n"
     ]
    }
   ],
   "source": [
    "count=0\n",
    "while count<10:\n",
    "    print(count)\n",
    "    count+=1"
   ]
  },
  {
   "cell_type": "markdown",
   "id": "178f5d6b",
   "metadata": {},
   "source": [
    "### Loop control statements \n",
    "\n",
    "-break - The break statement exits the loop permanently.\\\n",
    "-continue - The continue statement skips the current iteration and continue with the next. \\\n",
    "-pass - It is a null operation. It does nothing."
   ]
  },
  {
   "cell_type": "code",
   "execution_count": 29,
   "id": "fb510471",
   "metadata": {},
   "outputs": [
    {
     "name": "stdout",
     "output_type": "stream",
     "text": [
      "0\n",
      "1\n",
      "2\n",
      "3\n",
      "4\n"
     ]
    }
   ],
   "source": [
    "## Example\n",
    "\n",
    "for i in range(10):\n",
    "    if i==5:\n",
    "        break\n",
    "    print(i)"
   ]
  },
  {
   "cell_type": "code",
   "execution_count": 30,
   "id": "0badc8cf",
   "metadata": {},
   "outputs": [
    {
     "name": "stdout",
     "output_type": "stream",
     "text": [
      "1\n",
      "3\n",
      "5\n",
      "7\n",
      "9\n",
      "11\n",
      "13\n",
      "15\n",
      "17\n",
      "19\n"
     ]
    }
   ],
   "source": [
    "for i in range(20):\n",
    "    if i%2==0:\n",
    "        continue\n",
    "    print(i)"
   ]
  },
  {
   "cell_type": "code",
   "execution_count": 34,
   "id": "85f63af4",
   "metadata": {},
   "outputs": [
    {
     "name": "stdout",
     "output_type": "stream",
     "text": [
      "0\n",
      "1\n",
      "2\n",
      "3\n",
      "4\n"
     ]
    }
   ],
   "source": [
    "for i in range(5):\n",
    "    if i==0:\n",
    "        pass\n",
    "    print(i)"
   ]
  },
  {
   "cell_type": "code",
   "execution_count": 41,
   "id": "f85aba13",
   "metadata": {},
   "outputs": [
    {
     "name": "stdout",
     "output_type": "stream",
     "text": [
      "0,0\n",
      "0,1\n",
      "0,2\n",
      "0,3\n",
      "0,4\n",
      "1,0\n",
      "1,1\n",
      "1,2\n",
      "1,3\n",
      "1,4\n"
     ]
    }
   ],
   "source": [
    "for i in range(2):\n",
    "    for j in range(5):\n",
    "        print(f\"{i},{j}\")\n",
    "\n"
   ]
  },
  {
   "cell_type": "code",
   "execution_count": 46,
   "id": "33303b1d",
   "metadata": {},
   "outputs": [
    {
     "name": "stdout",
     "output_type": "stream",
     "text": [
      "5050\n"
     ]
    }
   ],
   "source": [
    "n=100\n",
    "sum=0\n",
    "count=1\n",
    "\n",
    "while count<=n:\n",
    "    sum+=count\n",
    "    count+=1\n",
    "print(sum)"
   ]
  },
  {
   "cell_type": "code",
   "execution_count": 49,
   "id": "dedbb9c2",
   "metadata": {},
   "outputs": [
    {
     "name": "stdout",
     "output_type": "stream",
     "text": [
      "5050\n"
     ]
    }
   ],
   "source": [
    "sum=0\n",
    "\n",
    "for i in range(101):\n",
    "    sum=sum+i\n",
    "\n",
    "print(sum)"
   ]
  },
  {
   "cell_type": "code",
   "execution_count": 76,
   "id": "da402016",
   "metadata": {},
   "outputs": [
    {
     "name": "stdout",
     "output_type": "stream",
     "text": [
      "2\n",
      "3\n",
      "5\n",
      "7\n"
     ]
    }
   ],
   "source": [
    "for num in range(10):\n",
    "    if num>1:\n",
    "        for i in range(2,num):\n",
    "            if num%i==0:\n",
    "                break\n",
    "        else:\n",
    "            print(num)"
   ]
  },
  {
   "cell_type": "markdown",
   "id": "50fd8d67",
   "metadata": {},
   "source": [
    "### CONCLUSION\n",
    "\n",
    "Loops are powerful constructs in python, that allows you to execute a block of code multiple times. By understanding and using for and while loop along with loop control statements like break,continue and pass, you can handle a wide range of programming tasks efficiently.\n"
   ]
  }
 ],
 "metadata": {
  "kernelspec": {
   "display_name": "Python 3",
   "language": "python",
   "name": "python3"
  },
  "language_info": {
   "codemirror_mode": {
    "name": "ipython",
    "version": 3
   },
   "file_extension": ".py",
   "mimetype": "text/x-python",
   "name": "python",
   "nbconvert_exporter": "python",
   "pygments_lexer": "ipython3",
   "version": "3.12.0"
  }
 },
 "nbformat": 4,
 "nbformat_minor": 5
}
