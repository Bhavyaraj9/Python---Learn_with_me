{
 "cells": [
  {
   "cell_type": "markdown",
   "id": "83f551c9",
   "metadata": {},
   "source": [
    "## SETS\n"
   ]
  },
  {
   "cell_type": "markdown",
   "id": "3c1db6ff",
   "metadata": {},
   "source": [
    "Sets are the built in data type in python used to store collection of unique items. They are unordered mean the elements do not follow a specific order, and they do not allow duplicate elements. Sets are useful for membership tests, eliminating duplicate entries,and performing mathematical sets operation like union, intersection and symmetric difference."
   ]
  },
  {
   "cell_type": "code",
   "execution_count": 4,
   "id": "e4cc7404",
   "metadata": {},
   "outputs": [
    {
     "name": "stdout",
     "output_type": "stream",
     "text": [
      "<class 'set'>\n"
     ]
    }
   ],
   "source": [
    "## Create a set\n",
    "\n",
    "myset={1,2,3,4,5,6}\n",
    "print(type(myset))"
   ]
  },
  {
   "cell_type": "code",
   "execution_count": 7,
   "id": "9f174613",
   "metadata": {},
   "outputs": [
    {
     "name": "stdout",
     "output_type": "stream",
     "text": [
      "{'bhavya', 'singh', 'raj'}\n",
      "<class 'set'>\n"
     ]
    }
   ],
   "source": [
    "bhavya=set(['bhavya','raj','singh'])\n",
    "print(bhavya)\n",
    "print(type(bhavya))"
   ]
  },
  {
   "cell_type": "code",
   "execution_count": 9,
   "id": "c2fbfa60",
   "metadata": {},
   "outputs": [
    {
     "name": "stdout",
     "output_type": "stream",
     "text": [
      "{'bhavya', 'chauhan', 'singh', 'raj'}\n"
     ]
    }
   ],
   "source": [
    "## Some operation on sets \n",
    "\n",
    "bhavya.add(\"chauhan\")\n",
    "print(bhavya)"
   ]
  },
  {
   "cell_type": "code",
   "execution_count": 24,
   "id": "914d8411",
   "metadata": {},
   "outputs": [
    {
     "name": "stdout",
     "output_type": "stream",
     "text": [
      "{7}\n",
      "set()\n",
      "set()\n",
      "set()\n"
     ]
    }
   ],
   "source": [
    "myset.add(7)        ## It is used to add the elements.\n",
    "print(myset)\n",
    "\n",
    "\n",
    "myset.remove(7)     ## It is used to remove the element.\n",
    "print(myset)\n",
    "\n",
    "myset.discard(1)    ## it discard/remove the element in arg.\n",
    "print(myset)\n",
    "\n",
    "myset.clear()       ## Clears all the data \n",
    "print(myset)\n",
    "\n"
   ]
  },
  {
   "cell_type": "code",
   "execution_count": 40,
   "id": "baacd32b",
   "metadata": {},
   "outputs": [
    {
     "name": "stdout",
     "output_type": "stream",
     "text": [
      "{1, 2, 3, 4, 5, 6, 7, 8, 9, 10, 11, 12, 13, 14, 15}\n"
     ]
    }
   ],
   "source": [
    "## Mathematical operation \n",
    "\n",
    "set1={1,2,3,4,5,6,7,8,9}\n",
    "set2={9,10,11,12,13,14,15}\n",
    "\n",
    "\n",
    "unioun_set=set1.union(set2)\n",
    "print(unioun_set)\n",
    "\n"
   ]
  },
  {
   "cell_type": "code",
   "execution_count": 41,
   "id": "f58da501",
   "metadata": {},
   "outputs": [
    {
     "name": "stdout",
     "output_type": "stream",
     "text": [
      "{9}\n"
     ]
    }
   ],
   "source": [
    "intersection_set= set1.intersection(set2)\n",
    "print(intersection_set)\n",
    "\n"
   ]
  },
  {
   "cell_type": "code",
   "execution_count": 42,
   "id": "385dfb1c",
   "metadata": {},
   "outputs": [
    {
     "data": {
      "text/plain": [
       "{1, 2, 3, 4, 5, 6, 7, 8}"
      ]
     },
     "execution_count": 42,
     "metadata": {},
     "output_type": "execute_result"
    }
   ],
   "source": [
    "set1.difference(set2)"
   ]
  },
  {
   "cell_type": "code",
   "execution_count": 44,
   "id": "3a6b9f61",
   "metadata": {},
   "outputs": [
    {
     "name": "stdout",
     "output_type": "stream",
     "text": [
      "False\n"
     ]
    }
   ],
   "source": [
    "## Sets Methods\n",
    "\n",
    "subset=set1.issubset(set2)\n",
    "print(subset)"
   ]
  },
  {
   "cell_type": "code",
   "execution_count": 46,
   "id": "b1041132",
   "metadata": {},
   "outputs": [
    {
     "name": "stdout",
     "output_type": "stream",
     "text": [
      "{9, 10, 11, 12, 13, 14, 15}\n"
     ]
    }
   ],
   "source": [
    "superset=set1.issuperset(set2)\n",
    "print(set2)\n"
   ]
  },
  {
   "cell_type": "code",
   "execution_count": 57,
   "id": "a5b82a25",
   "metadata": {},
   "outputs": [
    {
     "name": "stdout",
     "output_type": "stream",
     "text": [
      "<class 'set'>\n",
      "{'the', 'of', 'earning', 'raj', 'person', 'in', 'high', 'finance.', 'Bhavya', 'world', 'is'}\n",
      "11\n"
     ]
    }
   ],
   "source": [
    "text=\"Bhavya raj is the high earning person in the world of finance.\"\n",
    "words=text.split()\n",
    "\n",
    "phrase=set(words)              ##Converting list to set to get some unique words\n",
    "print(type(phrase))\n",
    "print(phrase)\n",
    "print(len(phrase))"
   ]
  },
  {
   "cell_type": "markdown",
   "id": "4db1cd5c",
   "metadata": {},
   "source": [
    "### Conclusion\n",
    "\n",
    "Sets are powerful and flexible data type in python used to store collection of unique elements. They support all the operation like union,intersection,difference, symmetric difference which are useful for mathematical computation. Understanding how to use sets with the associated methods help to write more efficient and clean python code, escpecially when dealing with unquie elemtents and membership tests. "
   ]
  }
 ],
 "metadata": {
  "kernelspec": {
   "display_name": "Python 3",
   "language": "python",
   "name": "python3"
  },
  "language_info": {
   "codemirror_mode": {
    "name": "ipython",
    "version": 3
   },
   "file_extension": ".py",
   "mimetype": "text/x-python",
   "name": "python",
   "nbconvert_exporter": "python",
   "pygments_lexer": "ipython3",
   "version": "3.12.0"
  }
 },
 "nbformat": 4,
 "nbformat_minor": 5
}
