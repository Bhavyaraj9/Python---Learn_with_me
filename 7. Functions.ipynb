{
 "cells": [
  {
   "cell_type": "markdown",
   "id": "963efecf",
   "metadata": {},
   "source": [
    "## Function"
   ]
  },
  {
   "cell_type": "markdown",
   "id": "0ac2f416",
   "metadata": {},
   "source": [
    "A Function is a block of code that performs a specific task. Functions help in organizing code, reusing code and improve readability."
   ]
  },
  {
   "cell_type": "code",
   "execution_count": 1,
   "id": "c7ff5906",
   "metadata": {},
   "outputs": [],
   "source": [
    "## Syntax for function \n",
    "\n",
    "def function_name(parameters):\n",
    "    \"\"\"Docstring\"\"\"\n",
    "    ## function body\n",
    "    return expression \n",
    "    "
   ]
  },
  {
   "cell_type": "code",
   "execution_count": 9,
   "id": "a835fe87",
   "metadata": {},
   "outputs": [
    {
     "name": "stdout",
     "output_type": "stream",
     "text": [
      "Number is even\n",
      "Number is odd\n"
     ]
    }
   ],
   "source": [
    "## Why we use function\n",
    "## If you want to find a number is even or odd\n",
    "\n",
    "num=24\n",
    "if num%2==0:\n",
    "    print(\"Number is even\")\n",
    "else:\n",
    "    print(\"Number is odd\")\n",
    "\n",
    "\n",
    "## If we use function then\n",
    "\n",
    "def even_or_odd(num):\n",
    "    \"\"\"This function can be used as to find the number is odd or even\"\"\"\n",
    "    if num%2==0:\n",
    "        print(\"Number is even\")\n",
    "    else:\n",
    "        print(\"Number is odd\")\n",
    "\n",
    "\n",
    "even_or_odd(9)"
   ]
  },
  {
   "cell_type": "code",
   "execution_count": 12,
   "id": "8dbd6e02",
   "metadata": {},
   "outputs": [
    {
     "name": "stdout",
     "output_type": "stream",
     "text": [
      "1\n"
     ]
    }
   ],
   "source": [
    "## Function with multiple parameters\n",
    "\n",
    "def subtract(a,b):\n",
    "    return a-b\n",
    "\n",
    "result=subtract(3,2)\n",
    "\n",
    "print(result)"
   ]
  },
  {
   "cell_type": "code",
   "execution_count": 20,
   "id": "a81173c8",
   "metadata": {},
   "outputs": [
    {
     "name": "stdout",
     "output_type": "stream",
     "text": [
      "Welcome Bhavyaraj singh chauhan\n",
      "Welcome Guest\n"
     ]
    }
   ],
   "source": [
    "## Default parameters \n",
    "\n",
    "def person(name=\"Guest\"):\n",
    "    print(f\"Welcome {name}\")\n",
    "\n",
    "person(\"Bhavyaraj singh chauhan\")\n",
    "person()"
   ]
  },
  {
   "cell_type": "code",
   "execution_count": 28,
   "id": "7552f25a",
   "metadata": {},
   "outputs": [
    {
     "name": "stdout",
     "output_type": "stream",
     "text": [
      "1\n",
      "2\n",
      "3\n",
      "bhavya\n",
      "raj\n",
      "Singh\n"
     ]
    }
   ],
   "source": [
    "## Variable Length Arguments \n",
    "## Positional and Keywords arguments \n",
    "\n",
    "## Positional arguments is like one by one value.\n",
    "\n",
    "def letter(*args):\n",
    "    for value in args:\n",
    "        print(value)\n",
    "letter(1,2,3,\"bhavya\",\"raj\",\"Singh\")\n",
    " "
   ]
  },
  {
   "cell_type": "code",
   "execution_count": 45,
   "id": "c72d442a",
   "metadata": {},
   "outputs": [
    {
     "name": "stdout",
     "output_type": "stream",
     "text": [
      "1\n",
      "2\n",
      "3\n",
      "43\n",
      "name:bhavya\n",
      "age:32\n",
      "country:India\n"
     ]
    }
   ],
   "source": [
    "## Keyword Arguments \n",
    "\n",
    "##Keyword argument means all the values are in key value pairs.\n",
    "\n",
    "def full_name(*args,**kwargs):\n",
    "\n",
    "    for info in args:\n",
    "        print(info)\n",
    "\n",
    "\n",
    "    for key,value in kwargs.items():\n",
    "        print(f\"{key}:{value}\")\n",
    "\n",
    "\n",
    "full_name(1,2,3,43,name=\"bhavya\", age=\"32\", country=\"India\")"
   ]
  },
  {
   "cell_type": "code",
   "execution_count": 48,
   "id": "26b46219",
   "metadata": {},
   "outputs": [
    {
     "data": {
      "text/plain": [
       "(4, 2)"
      ]
     },
     "execution_count": 48,
     "metadata": {},
     "output_type": "execute_result"
    }
   ],
   "source": [
    "## Return statement\n",
    "\n",
    "## Return statement is used to return multiple statements\n",
    "\n",
    "def multiply(a,b):\n",
    "    c=a*b\n",
    "\n",
    "    \"\"\"Return mutiple parameters\"\"\"\n",
    "    return c,a\n",
    "\n",
    "multiply(2,2)\n"
   ]
  },
  {
   "cell_type": "code",
   "execution_count": null,
   "id": "8bdda8d8",
   "metadata": {},
   "outputs": [],
   "source": []
  }
 ],
 "metadata": {
  "kernelspec": {
   "display_name": "Python 3",
   "language": "python",
   "name": "python3"
  },
  "language_info": {
   "codemirror_mode": {
    "name": "ipython",
    "version": 3
   },
   "file_extension": ".py",
   "mimetype": "text/x-python",
   "name": "python",
   "nbconvert_exporter": "python",
   "pygments_lexer": "ipython3",
   "version": "3.12.0"
  }
 },
 "nbformat": 4,
 "nbformat_minor": 5
}
