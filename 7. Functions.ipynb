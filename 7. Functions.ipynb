{
 "cells": [
  {
   "cell_type": "markdown",
   "id": "963efecf",
   "metadata": {},
   "source": [
    "## Function"
   ]
  },
  {
   "cell_type": "markdown",
   "id": "0ac2f416",
   "metadata": {},
   "source": [
    "A Function is a block of code that performs a specific task. Functions help in organizing code, reusing code and improve readability."
   ]
  },
  {
   "cell_type": "code",
   "execution_count": 1,
   "id": "c7ff5906",
   "metadata": {},
   "outputs": [],
   "source": [
    "## Syntax for function \n",
    "\n",
    "def function_name(parameters):\n",
    "    \"\"\"Docstring\"\"\"\n",
    "    ## function body\n",
    "    return expression \n",
    "    "
   ]
  },
  {
   "cell_type": "code",
   "execution_count": 9,
   "id": "a835fe87",
   "metadata": {},
   "outputs": [
    {
     "name": "stdout",
     "output_type": "stream",
     "text": [
      "Number is even\n",
      "Number is odd\n"
     ]
    }
   ],
   "source": [
    "## Why we use function\n",
    "## If you want to find a number is even or odd\n",
    "\n",
    "num=24\n",
    "if num%2==0:\n",
    "    print(\"Number is even\")\n",
    "else:\n",
    "    print(\"Number is odd\")\n",
    "\n",
    "\n",
    "## If we use function then\n",
    "\n",
    "def even_or_odd(num):\n",
    "    \"\"\"This function can be used as to find the number is odd or even\"\"\"\n",
    "    if num%2==0:\n",
    "        print(\"Number is even\")\n",
    "    else:\n",
    "        print(\"Number is odd\")\n",
    "\n",
    "\n",
    "even_or_odd(9)"
   ]
  },
  {
   "cell_type": "code",
   "execution_count": 12,
   "id": "8dbd6e02",
   "metadata": {},
   "outputs": [
    {
     "name": "stdout",
     "output_type": "stream",
     "text": [
      "1\n"
     ]
    }
   ],
   "source": [
    "## Function with multiple parameters\n",
    "\n",
    "def subtract(a,b):\n",
    "    return a-b\n",
    "\n",
    "result=subtract(3,2)\n",
    "\n",
    "print(result)"
   ]
  },
  {
   "cell_type": "code",
   "execution_count": 20,
   "id": "a81173c8",
   "metadata": {},
   "outputs": [
    {
     "name": "stdout",
     "output_type": "stream",
     "text": [
      "Welcome Bhavyaraj singh chauhan\n",
      "Welcome Guest\n"
     ]
    }
   ],
   "source": [
    "## Default parameters \n",
    "\n",
    "def person(name=\"Guest\"):\n",
    "    print(f\"Welcome {name}\")\n",
    "\n",
    "person(\"Bhavyaraj singh chauhan\")\n",
    "person()"
   ]
  },
  {
   "cell_type": "code",
   "execution_count": 28,
   "id": "7552f25a",
   "metadata": {},
   "outputs": [
    {
     "name": "stdout",
     "output_type": "stream",
     "text": [
      "1\n",
      "2\n",
      "3\n",
      "bhavya\n",
      "raj\n",
      "Singh\n"
     ]
    }
   ],
   "source": [
    "## Variable Length Arguments \n",
    "## Positional and Keywords arguments \n",
    "\n",
    "## Positional arguments is like one by one value.\n",
    "\n",
    "def letter(*args):\n",
    "    for value in args:\n",
    "        print(value)\n",
    "letter(1,2,3,\"bhavya\",\"raj\",\"Singh\")\n",
    " "
   ]
  },
  {
   "cell_type": "code",
   "execution_count": 45,
   "id": "c72d442a",
   "metadata": {},
   "outputs": [
    {
     "name": "stdout",
     "output_type": "stream",
     "text": [
      "1\n",
      "2\n",
      "3\n",
      "43\n",
      "name:bhavya\n",
      "age:32\n",
      "country:India\n"
     ]
    }
   ],
   "source": [
    "## Keyword Arguments \n",
    "\n",
    "##Keyword argument means all the values are in key value pairs.\n",
    "\n",
    "def full_name(*args,**kwargs):\n",
    "\n",
    "    for info in args:\n",
    "        print(info)\n",
    "\n",
    "\n",
    "    for key,value in kwargs.items():\n",
    "        print(f\"{key}:{value}\")\n",
    "\n",
    "\n",
    "full_name(1,2,3,43,name=\"bhavya\", age=\"32\", country=\"India\")"
   ]
  },
  {
   "cell_type": "code",
   "execution_count": 48,
   "id": "26b46219",
   "metadata": {},
   "outputs": [
    {
     "data": {
      "text/plain": [
       "(4, 2)"
      ]
     },
     "execution_count": 48,
     "metadata": {},
     "output_type": "execute_result"
    }
   ],
   "source": [
    "## Return statement\n",
    "\n",
    "## Return statement is used to return multiple statements\n",
    "\n",
    "def multiply(a,b):\n",
    "    c=a*b\n",
    "\n",
    "    \"\"\"Return mutiple parameters\"\"\"\n",
    "    return c,a\n",
    "\n",
    "multiply(2,2)\n"
   ]
  },
  {
   "cell_type": "markdown",
   "id": "0788f88f",
   "metadata": {},
   "source": [
    "### Examples of Functions-: "
   ]
  },
  {
   "cell_type": "code",
   "execution_count": 60,
   "id": "6736d4ea",
   "metadata": {},
   "outputs": [
    {
     "name": "stdout",
     "output_type": "stream",
     "text": [
      "75.2\n",
      "25.0\n"
     ]
    }
   ],
   "source": [
    "## Convert the temperature \n",
    "\n",
    "def convert_temp(temp,unit):\n",
    "    if unit=='C':\n",
    "        return temp*9/5 + 32\n",
    "    elif unit=='F':\n",
    "        return (temp-32)*5/9\n",
    "    else:\n",
    "        return None\n",
    "\n",
    "print(convert_temp(24,'C'))\n",
    "print(convert_temp(77,'F'))\n",
    "\n"
   ]
  },
  {
   "cell_type": "code",
   "execution_count": 18,
   "id": "9093f422",
   "metadata": {},
   "outputs": [
    {
     "name": "stdout",
     "output_type": "stream",
     "text": [
      "True\n",
      "False\n"
     ]
    }
   ],
   "source": [
    "## Function to check the strength of the password.\n",
    "\n",
    "def pass_strength(password):\n",
    "    \"\"\"Written the condition to check password strength\"\"\"\n",
    "    if len(password) <8:\n",
    "        return False\n",
    "    if not any (char.isdigit() for char in password):\n",
    "        return False\n",
    "    if not any(char.islower() for char in password):\n",
    "        return False\n",
    "    if not any(char.isupper() for char in password):\n",
    "        return False\n",
    "    if not any(char in \"!@#$%^&*\" for char in password):\n",
    "        return False\n",
    "    else:\n",
    "        return True\n",
    "    \n",
    "\"\"\" Calling the Function\"\"\"\n",
    "\n",
    "\n",
    "print(pass_strength(\"Bhavya9@\"))\n",
    "print(pass_strength(\"bhavya9\"))\n",
    "    "
   ]
  },
  {
   "cell_type": "code",
   "execution_count": 58,
   "id": "e959f2cd",
   "metadata": {},
   "outputs": [
    {
     "name": "stdout",
     "output_type": "stream",
     "text": [
      "120\n"
     ]
    }
   ],
   "source": [
    "## Function to find the total cost of items in cart.\n",
    "\n",
    "cart=[{\"name\": \"Apple\", \"price\": 30},\n",
    "      {\"name\": \"Mango\", \"price\": 40},\n",
    "      {\"name\": \"Cars\", \"price\": 50}]\n",
    "\n",
    "\n",
    "\n",
    "def total_price(cart):\n",
    "       return sum(item.get(\"price\",0) for item in cart)\n",
    "\n",
    "\n",
    "print(total_price(cart))"
   ]
  },
  {
   "cell_type": "code",
   "execution_count": null,
   "id": "d8295f08",
   "metadata": {},
   "outputs": [
    {
     "data": {
      "text/plain": [
       "True"
      ]
     },
     "execution_count": 28,
     "metadata": {},
     "output_type": "execute_result"
    }
   ],
   "source": [
    "## Function to check the String is palindrome or not.\n",
    "\n",
    "def palindrome(s):\n",
    "    \n",
    "    return s==s[::-1]\n",
    "\n",
    "palindrome(\"bhb\")"
   ]
  },
  {
   "cell_type": "code",
   "execution_count": 78,
   "id": "1e5d2911",
   "metadata": {},
   "outputs": [
    {
     "data": {
      "text/plain": [
       "120"
      ]
     },
     "execution_count": 78,
     "metadata": {},
     "output_type": "execute_result"
    }
   ],
   "source": [
    "## Check the factorial of number using recursion.\n",
    "def factorial(n):\n",
    "    if n==0:\n",
    "        return 1\n",
    "    else:\n",
    "        return n*factorial(n-1)\n",
    "\n",
    "\n",
    "\n",
    "\n",
    "\n",
    "\n",
    "factorial(5)"
   ]
  },
  {
   "cell_type": "code",
   "execution_count": 84,
   "id": "5032b90e",
   "metadata": {},
   "outputs": [
    {
     "data": {
      "text/plain": [
       "'Not verified'"
      ]
     },
     "execution_count": 84,
     "metadata": {},
     "output_type": "execute_result"
    }
   ],
   "source": [
    "## Check the validate Email address\n",
    "pattern=r'^[a-zA-Z0-9._%+-]+@[a-zA-Z0-9.-]+\\.[a-zA-Z]{2,}$'\n",
    "\n",
    "def email_check(s):\n",
    "    if s == pattern:\n",
    "        return \"Email verified\"\n",
    "    else:\n",
    "        return \"Not verified\"\n",
    "    \n",
    "\n",
    "email_check(\"user@example.com\")    "
   ]
  }
 ],
 "metadata": {
  "kernelspec": {
   "display_name": "Python 3",
   "language": "python",
   "name": "python3"
  },
  "language_info": {
   "codemirror_mode": {
    "name": "ipython",
    "version": 3
   },
   "file_extension": ".py",
   "mimetype": "text/x-python",
   "name": "python",
   "nbconvert_exporter": "python",
   "pygments_lexer": "ipython3",
   "version": "3.12.0"
  }
 },
 "nbformat": 4,
 "nbformat_minor": 5
}
