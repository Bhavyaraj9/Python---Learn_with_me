{
 "cells": [
  {
   "cell_type": "markdown",
   "id": "51eb2d05",
   "metadata": {},
   "source": [
    "## DICTIONARIES :-"
   ]
  },
  {
   "cell_type": "markdown",
   "id": "04c72743",
   "metadata": {},
   "source": [
    "Dictionaries are unordered collections of items and are mutable. They store in key value pairs. Keys must be unique and immutable (e.g, strings, numbers or tuples), while value can be of any type."
   ]
  },
  {
   "cell_type": "code",
   "execution_count": 2,
   "id": "1a541c01",
   "metadata": {},
   "outputs": [
    {
     "name": "stdout",
     "output_type": "stream",
     "text": [
      "<class 'dict'>\n"
     ]
    }
   ],
   "source": [
    "## Creating a empty dictionaries \n",
    "\n",
    "empty_dict={}\n",
    "\n",
    "print(type(empty_dict))"
   ]
  },
  {
   "cell_type": "code",
   "execution_count": 4,
   "id": "d638a754",
   "metadata": {},
   "outputs": [
    {
     "name": "stdout",
     "output_type": "stream",
     "text": [
      "<class 'dict'>\n"
     ]
    }
   ],
   "source": [
    "## We can also write dict to create a dictionaries like we used in other datatype also.\n",
    "\n",
    "name= dict()\n",
    "print(type(name))"
   ]
  },
  {
   "cell_type": "code",
   "execution_count": 5,
   "id": "1e9a3deb",
   "metadata": {},
   "outputs": [
    {
     "name": "stdout",
     "output_type": "stream",
     "text": [
      "{'name': 'Bhavyaraj', 'age': 21, 'Grade': 'A'}\n"
     ]
    }
   ],
   "source": [
    "##Accesing dictionaries elements \n",
    "\n",
    "student={\n",
    "    \"name\":\"Bhavyaraj\",\n",
    "    \"age\":21,\n",
    "    \"Grade\":\"A\"\n",
    "}\n",
    "\n",
    "\n",
    "print(student)"
   ]
  },
  {
   "cell_type": "code",
   "execution_count": 11,
   "id": "7c42d37d",
   "metadata": {},
   "outputs": [
    {
     "name": "stdout",
     "output_type": "stream",
     "text": [
      "Bhavyaraj\n",
      "21\n",
      "A\n"
     ]
    }
   ],
   "source": [
    "print(student[\"name\"])\n",
    "print(student[\"age\"])\n",
    "\n",
    "print(student.get('Grade'))"
   ]
  },
  {
   "cell_type": "code",
   "execution_count": 17,
   "id": "736d5604",
   "metadata": {},
   "outputs": [
    {
     "name": "stdout",
     "output_type": "stream",
     "text": [
      "{'name': 'bhavyaraj singh', 'age': 21, 'Grade': 'A'}\n"
     ]
    }
   ],
   "source": [
    "## You can modify dictionaries elements which are mutable in nature.\n",
    "\n",
    "student[\"age\"]=21\n",
    "student[\"name\"]=\"bhavyaraj singh\"\n",
    "\n",
    "\n",
    "print(student)"
   ]
  },
  {
   "cell_type": "code",
   "execution_count": null,
   "id": "2695bf40",
   "metadata": {},
   "outputs": [
    {
     "name": "stdout",
     "output_type": "stream",
     "text": [
      "{'name': 'bhavyaraj singh', 'Grade': 'A'}\n"
     ]
    }
   ],
   "source": [
    "## Deleting the key value pair \n",
    "student['age']=22\n",
    "\n",
    "del student['age']\n",
    "\n",
    "print(student)"
   ]
  },
  {
   "cell_type": "markdown",
   "id": "5b1be1b3",
   "metadata": {},
   "source": [
    "### Dictionaries Methods -:"
   ]
  },
  {
   "cell_type": "code",
   "execution_count": 25,
   "id": "2324b042",
   "metadata": {},
   "outputs": [
    {
     "name": "stdout",
     "output_type": "stream",
     "text": [
      "dict_keys(['name', 'Grade'])\n",
      "dict_items([('name', 'bhavyaraj singh'), ('Grade', 'A')])\n",
      "dict_values(['bhavyaraj singh', 'A'])\n"
     ]
    }
   ],
   "source": [
    "name=student.keys()\n",
    "print(name)\n",
    "\n",
    "total=student.items()\n",
    "print(total)\n",
    "\n",
    "grade=student.values()\n",
    "print(grade)"
   ]
  },
  {
   "cell_type": "code",
   "execution_count": 28,
   "id": "0b112e62",
   "metadata": {},
   "outputs": [
    {
     "name": "stdout",
     "output_type": "stream",
     "text": [
      "{'name': 'bhavyaraj singh', 'Grade': 'A'}\n",
      "{'name': 'bhavyaraj singh', 'Grade': 'A'}\n"
     ]
    }
   ],
   "source": [
    "## This makes the Shallow copy of a function\n",
    "\n",
    "student_copy=student\n",
    "\n",
    "print(student)\n",
    "print(student_copy)"
   ]
  },
  {
   "cell_type": "code",
   "execution_count": 41,
   "id": "d90aff9b",
   "metadata": {},
   "outputs": [
    {
     "name": "stdout",
     "output_type": "stream",
     "text": [
      "name:bhavyaraj singh\n",
      "Grade:A\n"
     ]
    }
   ],
   "source": [
    "for key,value in student.items():\n",
    "    print(f\"{key}:{value}\")"
   ]
  },
  {
   "cell_type": "markdown",
   "id": "6597ebb0",
   "metadata": {},
   "source": [
    "### Nested Dictionaries"
   ]
  },
  {
   "cell_type": "code",
   "execution_count": null,
   "id": "8b1b4a98",
   "metadata": {},
   "outputs": [],
   "source": [
    "students={\n",
    "    \"student1\":{\"name\":\"bhavyarajsingh\", \"age\":23\n",
    "                \n",
    "},\"student2\":{\"name\": \"chauhan\",\"age\":22}\n",
    "}\n"
   ]
  },
  {
   "cell_type": "code",
   "execution_count": 59,
   "id": "20205ee4",
   "metadata": {},
   "outputs": [
    {
     "name": "stdout",
     "output_type": "stream",
     "text": [
      "student1,{'name': 'bhavyarajsingh', 'age': 23}\n",
      "student2,{'name': 'chauhan', 'age': 22}\n"
     ]
    }
   ],
   "source": [
    "for list,info in students.items():\n",
    "    print(f\"{list},{info}\")"
   ]
  },
  {
   "cell_type": "code",
   "execution_count": 61,
   "id": "1d48c144",
   "metadata": {},
   "outputs": [
    {
     "name": "stdout",
     "output_type": "stream",
     "text": [
      "{'name': 'bhavyarajsingh', 'age': 23}\n",
      "{'name': 'chauhan', 'age': 22}\n"
     ]
    }
   ],
   "source": [
    "\n",
    "for value in students.values():\n",
    "    print(value)\n"
   ]
  },
  {
   "cell_type": "code",
   "execution_count": 66,
   "id": "49d499d2",
   "metadata": {},
   "outputs": [
    {
     "name": "stdout",
     "output_type": "stream",
     "text": [
      "0\n",
      "1\n",
      "2\n",
      "3\n",
      "4\n"
     ]
    }
   ],
   "source": [
    "for squareroot in range(5):\n",
    "    x=squareroot**2\n",
    "    print(squareroot)"
   ]
  },
  {
   "cell_type": "code",
   "execution_count": 4,
   "id": "e1854b32",
   "metadata": {},
   "outputs": [
    {
     "name": "stdout",
     "output_type": "stream",
     "text": [
      "{1: 1, 2: 2, 3: 3, 4: 4}\n"
     ]
    }
   ],
   "source": [
    "numbers=[1,2,2,3,3,3,4,4,4,4]\n",
    "\n",
    "frequency={}\n",
    "\n",
    "for number in numbers:\n",
    "    if number in frequency:\n",
    "        frequency[number]+=1\n",
    "    else:\n",
    "        frequency[number]=1\n",
    "print(frequency)\n"
   ]
  },
  {
   "cell_type": "code",
   "execution_count": 6,
   "id": "136f9198",
   "metadata": {},
   "outputs": [
    {
     "name": "stdout",
     "output_type": "stream",
     "text": [
      "{'name': 'bhavyaraj singh', 'surname': 'chauhan'}\n"
     ]
    }
   ],
   "source": [
    "## Merging two dictionaries\n",
    "\n",
    "dic1={\"name\":\"bhavyaraj singh\"}\n",
    "dict2={\"surname\":\"chauhan\"}\n",
    "\n",
    "merged={**dic1,**dict2}\n",
    "print(merged)"
   ]
  },
  {
   "cell_type": "markdown",
   "id": "47be56ee",
   "metadata": {},
   "source": [
    "### Conclusion \n",
    "\n",
    "Dictionaries are powerful tools in python for managing key value pairs. They are used in variety of real world scenarios, such as counting word frequency, grouping data, storing configuration settings, managing phonebooks, tracking inventory and caching results. Understanding how to leverage dictionaries effectively can greatly enhance the efficiency and readability of your code."
   ]
  }
 ],
 "metadata": {
  "kernelspec": {
   "display_name": "Python 3",
   "language": "python",
   "name": "python3"
  },
  "language_info": {
   "codemirror_mode": {
    "name": "ipython",
    "version": 3
   },
   "file_extension": ".py",
   "mimetype": "text/x-python",
   "name": "python",
   "nbconvert_exporter": "python",
   "pygments_lexer": "ipython3",
   "version": "3.12.0"
  }
 },
 "nbformat": 4,
 "nbformat_minor": 5
}
