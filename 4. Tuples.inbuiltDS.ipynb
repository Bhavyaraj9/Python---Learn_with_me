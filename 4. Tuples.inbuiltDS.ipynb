{
 "cells": [
  {
   "cell_type": "markdown",
   "id": "afd6cefa",
   "metadata": {},
   "source": [
    "## Tuples \n"
   ]
  },
  {
   "cell_type": "markdown",
   "id": "d9cb4435",
   "metadata": {},
   "source": [
    "Tuples are the ordered collection of items that are immutable. They are as similiar to list but their immutability makes them different."
   ]
  },
  {
   "cell_type": "code",
   "execution_count": null,
   "id": "6e04718a",
   "metadata": {},
   "outputs": [
    {
     "name": "stdout",
     "output_type": "stream",
     "text": [
      "<class 'tuple'>\n",
      "<class 'list'>\n"
     ]
    }
   ],
   "source": [
    "##Examples of tuples \n",
    "\n",
    "empty_tuple=()\n",
    "print(type(empty_tuple))\n",
    "\n",
    "tuple=[]\n",
    "print(type(tuple))"
   ]
  },
  {
   "cell_type": "code",
   "execution_count": 31,
   "id": "622f727d",
   "metadata": {},
   "outputs": [
    {
     "data": {
      "text/plain": [
       "[1, 2, 3, 4, 5, 6]"
      ]
     },
     "execution_count": 31,
     "metadata": {},
     "output_type": "execute_result"
    }
   ],
   "source": [
    "numbers=([1,2,3,4,5,6])\n",
    "numbers"
   ]
  },
  {
   "cell_type": "code",
   "execution_count": 63,
   "id": "f3472b5d",
   "metadata": {},
   "outputs": [
    {
     "name": "stdout",
     "output_type": "stream",
     "text": [
      "<class 'tuple'>\n"
     ]
    }
   ],
   "source": [
    "bb=((1,2,3,5,6))\n",
    "print(type(bb))"
   ]
  },
  {
   "cell_type": "code",
   "execution_count": null,
   "id": "9483fd0e",
   "metadata": {},
   "outputs": [
    {
     "name": "stdout",
     "output_type": "stream",
     "text": [
      "<class 'tuple'>\n"
     ]
    },
    {
     "data": {
      "text/plain": [
       "2"
      ]
     },
     "execution_count": 86,
     "metadata": {},
     "output_type": "execute_result"
    }
   ],
   "source": [
    "##Mixed tuple\n",
    "\n",
    "items=('1','2','2','3','home','suite','4')\n",
    "print(type(items))\n",
    "\n",
    "items[3]\n"
   ]
  },
  {
   "cell_type": "code",
   "execution_count": 68,
   "id": "19eb81cf",
   "metadata": {},
   "outputs": [
    {
     "name": "stdout",
     "output_type": "stream",
     "text": [
      "('1', '2', '3', 'home', 'suite', '4', 1, 2, 3, 5, 6)\n"
     ]
    }
   ],
   "source": [
    "##Tuple operation\n",
    "\n",
    "mixed=items+ bb\n",
    "print(mixed)\n"
   ]
  },
  {
   "cell_type": "code",
   "execution_count": 72,
   "id": "7a802355",
   "metadata": {},
   "outputs": [
    {
     "ename": "TypeError",
     "evalue": "'tuple' object does not support item assignment",
     "output_type": "error",
     "traceback": [
      "\u001b[31m---------------------------------------------------------------------------\u001b[39m",
      "\u001b[31mTypeError\u001b[39m                                 Traceback (most recent call last)",
      "\u001b[36mCell\u001b[39m\u001b[36m \u001b[39m\u001b[32mIn[72]\u001b[39m\u001b[32m, line 5\u001b[39m\n\u001b[32m      1\u001b[39m \u001b[38;5;66;03m##Immutable nature of tuples\u001b[39;00m\n\u001b[32m      2\u001b[39m \u001b[38;5;66;03m## Tuples are immutable in nature means when tuple is assigned then there value doesn't change.\u001b[39;00m\n\u001b[32m      4\u001b[39m name=(\u001b[33m'\u001b[39m\u001b[33mbhavya\u001b[39m\u001b[33m'\u001b[39m,\u001b[33m'\u001b[39m\u001b[33mraj\u001b[39m\u001b[33m'\u001b[39m,\u001b[33m'\u001b[39m\u001b[33mchauhan\u001b[39m\u001b[33m'\u001b[39m)\n\u001b[32m----> \u001b[39m\u001b[32m5\u001b[39m \u001b[43mname\u001b[49m\u001b[43m[\u001b[49m\u001b[32;43m2\u001b[39;49m\u001b[43m]\u001b[49m=\u001b[33m'\u001b[39m\u001b[33msingh\u001b[39m\u001b[33m'\u001b[39m\n",
      "\u001b[31mTypeError\u001b[39m: 'tuple' object does not support item assignment"
     ]
    }
   ],
   "source": [
    "##Immutable nature of tuples\n",
    "## Tuples are immutable in nature means when tuple is assigned then there value doesn't change.\n",
    "\n",
    "name=('bhavya','raj','chauhan')\n",
    "name[2]='singh'"
   ]
  },
  {
   "cell_type": "code",
   "execution_count": 88,
   "id": "ea81d4cb",
   "metadata": {},
   "outputs": [
    {
     "name": "stdout",
     "output_type": "stream",
     "text": [
      "4\n",
      "2\n"
     ]
    }
   ],
   "source": [
    "##Tuples method\n",
    "\n",
    "items=('1','2','2','3','home','suite','4')\n",
    "\n",
    "print(items.index('home'))\n",
    "print(items.count('2'))"
   ]
  },
  {
   "cell_type": "code",
   "execution_count": 89,
   "id": "0d1f187b",
   "metadata": {},
   "outputs": [
    {
     "name": "stdout",
     "output_type": "stream",
     "text": [
      "('Gabbar', 'Singh', 'sambha', 'Aadmi')\n"
     ]
    }
   ],
   "source": [
    "##Packed tuple\n",
    "name=\"Gabbar\",\"Singh\",\"sambha\",\"Aadmi\"\n",
    "\n",
    "print(name)"
   ]
  },
  {
   "cell_type": "code",
   "execution_count": 90,
   "id": "e48fcad9",
   "metadata": {},
   "outputs": [
    {
     "name": "stdout",
     "output_type": "stream",
     "text": [
      "Gabbar\n",
      "Singh\n",
      "sambha\n",
      "Aadmi\n"
     ]
    }
   ],
   "source": [
    "##Unpack tupleb\n",
    "\n",
    "a,b,c,d=name\n",
    "\n",
    "print(a)\n",
    "print(b)\n",
    "print(c)\n",
    "print(d)\n",
    "\n"
   ]
  },
  {
   "cell_type": "code",
   "execution_count": 94,
   "id": "3f08c0b1",
   "metadata": {},
   "outputs": [
    {
     "name": "stdout",
     "output_type": "stream",
     "text": [
      "(1, 2, 3, 4, 5, 6, 7, 8)\n"
     ]
    }
   ],
   "source": [
    "##Unpacking with star *\n",
    "\n",
    "integers=1,2,3,4,5,6,7,8\n",
    "\n",
    "print(integers)\n",
    "\n",
    "a,*b,c=integers\n",
    "\n",
    "## * take out all the values in one till the last element\n"
   ]
  },
  {
   "cell_type": "code",
   "execution_count": 111,
   "id": "8bc2d6a3",
   "metadata": {},
   "outputs": [
    {
     "name": "stdout",
     "output_type": "stream",
     "text": [
      "[[1, 2, 3, 4], [5, 6, 7], [8, 9]]\n",
      "<class 'list'>\n",
      "((1, 2, 3, 4), (5, 6, 7), (8, 'bhavya', 9))\n",
      "<class 'tuple'>\n"
     ]
    }
   ],
   "source": [
    "## Nested tuple\n",
    "\n",
    "many_lst=[[1,2,3,4],[5,6,7],[8,9]]\n",
    "print(many_lst)\n",
    "print(type(many_lst))\n",
    "\n",
    "many_tuple=((1,2,3,4),(5,6,7),(8,'bhavya',9))\n",
    "print(many_tuple)\n",
    "print(type(many_tuple))\n"
   ]
  },
  {
   "cell_type": "code",
   "execution_count": 112,
   "id": "16e4f9c7",
   "metadata": {},
   "outputs": [
    {
     "data": {
      "text/plain": [
       "'bhavya'"
      ]
     },
     "execution_count": 112,
     "metadata": {},
     "output_type": "execute_result"
    }
   ],
   "source": [
    "##Accesing the elemetns inside the tuple\n",
    "\n",
    "many_tuple[2][1]"
   ]
  },
  {
   "cell_type": "code",
   "execution_count": null,
   "id": "1c13fcec",
   "metadata": {},
   "outputs": [
    {
     "name": "stdout",
     "output_type": "stream",
     "text": [
      "1\n",
      "2\n",
      "3\n",
      "4\n",
      "5\n",
      "6\n",
      "7\n",
      "8\n",
      "bhavya\n",
      "9\n"
     ]
    }
   ],
   "source": [
    "##Iterating over nested tuple\n",
    "\n",
    "for name in many_tuple:\n",
    "    for item in name:\n",
    "        print(item)"
   ]
  },
  {
   "cell_type": "markdown",
   "id": "cfcf7657",
   "metadata": {},
   "source": [
    "### Conclusion \n",
    "\n",
    "Tuples are versatile and useful in many real world scenarios where an immutable and ordered collection of items in required. They are commonly used in data structure, function arguments and return values and as dictionary keys. Understanding how to leverage tuples effectively can improve the readabilty and efficiency of python code."
   ]
  }
 ],
 "metadata": {
  "kernelspec": {
   "display_name": "Python 3",
   "language": "python",
   "name": "python3"
  },
  "language_info": {
   "codemirror_mode": {
    "name": "ipython",
    "version": 3
   },
   "file_extension": ".py",
   "mimetype": "text/x-python",
   "name": "python",
   "nbconvert_exporter": "python",
   "pygments_lexer": "ipython3",
   "version": "3.12.0"
  }
 },
 "nbformat": 4,
 "nbformat_minor": 5
}
