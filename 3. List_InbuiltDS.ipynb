{
 "cells": [
  {
   "cell_type": "markdown",
   "id": "3b06830b",
   "metadata": {},
   "source": [
    "# Inbuilt Data Structure"
   ]
  },
  {
   "cell_type": "markdown",
   "id": "c88d6907",
   "metadata": {},
   "source": [
    "### Lists \n",
    "-Lists are the ordered, mutable, collections of items.\\\n",
    "-They can contain items of different data types.\n"
   ]
  },
  {
   "cell_type": "code",
   "execution_count": 3,
   "id": "bb2fa110",
   "metadata": {},
   "outputs": [
    {
     "name": "stdout",
     "output_type": "stream",
     "text": [
      "guava\n"
     ]
    }
   ],
   "source": [
    "###Accesing lists Elements\n",
    "\n",
    "fruits=[\"mango\",\"apple\",\"banana\",\"guava\",\"watermelon\",\"chiku\"]\n",
    "print(fruits[3])"
   ]
  },
  {
   "cell_type": "code",
   "execution_count": 23,
   "id": "31b3c927",
   "metadata": {},
   "outputs": [
    {
     "name": "stdout",
     "output_type": "stream",
     "text": [
      "Singh\n"
     ]
    }
   ],
   "source": [
    "mixed_items=[\"bhavya\",22,\"raj\",99,\"Singh\"]\n",
    "print(mixed_items[-1])\n"
   ]
  },
  {
   "cell_type": "markdown",
   "id": "aafb2d65",
   "metadata": {},
   "source": [
    "### Modifying List Elements -- "
   ]
  },
  {
   "cell_type": "code",
   "execution_count": 12,
   "id": "fbd3c539",
   "metadata": {},
   "outputs": [
    {
     "name": "stdout",
     "output_type": "stream",
     "text": [
      "['mango', 'pomogrenate', 'banana', 'guava', 'watermelon', 'chiku']\n"
     ]
    }
   ],
   "source": [
    "fruits[1]=\"pomogrenate\"\n",
    "print(fruits)"
   ]
  },
  {
   "cell_type": "code",
   "execution_count": 13,
   "id": "146c395c",
   "metadata": {},
   "outputs": [
    {
     "name": "stdout",
     "output_type": "stream",
     "text": [
      "['kalia', 'pomogrenate', 'banana', 'guava', 'watermelon', 'chiku']\n"
     ]
    }
   ],
   "source": [
    "fruits[0]=\"kalia\"\n",
    "print(fruits)"
   ]
  },
  {
   "cell_type": "markdown",
   "id": "e8900ee9",
   "metadata": {},
   "source": [
    "### List Methods are-\n",
    "- append\n",
    "- insert\n",
    "- remove\n",
    "- pop\n",
    "- index\n",
    "- count\n",
    "- sort\n",
    "- reverse\n",
    "- clear\n"
   ]
  },
  {
   "cell_type": "code",
   "execution_count": 25,
   "id": "a6b17464",
   "metadata": {},
   "outputs": [],
   "source": [
    "fruits.append(\"orange\")"
   ]
  },
  {
   "cell_type": "code",
   "execution_count": 29,
   "id": "176ebe6b",
   "metadata": {},
   "outputs": [
    {
     "name": "stdout",
     "output_type": "stream",
     "text": [
      "['apple', 'apple', 'apple', 'kalia', 'pomogrenate', 'banana', 'guava', 'watermelon', 'chiku', 'orange']\n"
     ]
    }
   ],
   "source": [
    "fruits.insert(0,\"apple\")\n",
    "print(fruits)"
   ]
  },
  {
   "cell_type": "code",
   "execution_count": 32,
   "id": "d47107ab",
   "metadata": {},
   "outputs": [
    {
     "name": "stdout",
     "output_type": "stream",
     "text": [
      "['apple', 'apple', 'apple', 'kalia', 'pomogrenate', 'banana', 'guava']\n"
     ]
    }
   ],
   "source": [
    "fruits.pop()\n",
    "print(fruits)\n"
   ]
  },
  {
   "cell_type": "code",
   "execution_count": 35,
   "id": "bfff8b7b",
   "metadata": {},
   "outputs": [
    {
     "data": {
      "text/plain": [
       "3"
      ]
     },
     "execution_count": 35,
     "metadata": {},
     "output_type": "execute_result"
    }
   ],
   "source": [
    "fruits.index(\"kalia\")\n"
   ]
  },
  {
   "cell_type": "code",
   "execution_count": 36,
   "id": "3fe18116",
   "metadata": {},
   "outputs": [],
   "source": [
    "fruits.sort()\n"
   ]
  },
  {
   "cell_type": "code",
   "execution_count": 40,
   "id": "c7c050b1",
   "metadata": {},
   "outputs": [
    {
     "data": {
      "text/plain": [
       "3"
      ]
     },
     "execution_count": 40,
     "metadata": {},
     "output_type": "execute_result"
    }
   ],
   "source": [
    "fruits.count(\"apple\")"
   ]
  },
  {
   "cell_type": "code",
   "execution_count": 41,
   "id": "9717862c",
   "metadata": {},
   "outputs": [
    {
     "name": "stdout",
     "output_type": "stream",
     "text": [
      "[]\n"
     ]
    }
   ],
   "source": [
    "fruits.clear()\n",
    "print(fruits)"
   ]
  },
  {
   "cell_type": "markdown",
   "id": "03eb840f",
   "metadata": {},
   "source": [
    "### Slicing List :\n"
   ]
  },
  {
   "cell_type": "code",
   "execution_count": 49,
   "id": "696069af",
   "metadata": {},
   "outputs": [
    {
     "name": "stdout",
     "output_type": "stream",
     "text": [
      "[2]\n",
      "[3, 4, 5]\n",
      "9\n",
      "[1, 3, 5, 7, 9]\n",
      "[6, 7, 8, 9]\n",
      "[1, 4, 7]\n",
      "[9, 7, 5, 3, 1]\n"
     ]
    }
   ],
   "source": [
    "numbers=[1,2,3,4,5,6,7,8,9]\n",
    "\n",
    "print(numbers[1:2])\n",
    "print(numbers[2:5])\n",
    "print(numbers[-1])\n",
    "print(numbers[::2])\n",
    "print(numbers[5:])\n",
    "print(numbers[::3])\n",
    "print(numbers[::-2])"
   ]
  },
  {
   "cell_type": "markdown",
   "id": "b175753b",
   "metadata": {},
   "source": [
    "### Iterating Over List-"
   ]
  },
  {
   "cell_type": "code",
   "execution_count": 50,
   "id": "75100698",
   "metadata": {},
   "outputs": [
    {
     "name": "stdout",
     "output_type": "stream",
     "text": [
      "1\n",
      "2\n",
      "3\n",
      "4\n",
      "5\n",
      "6\n",
      "7\n",
      "8\n",
      "9\n"
     ]
    }
   ],
   "source": [
    "for num in numbers:\n",
    "    print(num)"
   ]
  },
  {
   "cell_type": "code",
   "execution_count": 53,
   "id": "c45d9896",
   "metadata": {},
   "outputs": [
    {
     "name": "stdout",
     "output_type": "stream",
     "text": [
      "0 1\n",
      "1 2\n",
      "2 3\n",
      "3 4\n",
      "4 5\n",
      "5 6\n",
      "6 7\n",
      "7 8\n",
      "8 9\n"
     ]
    }
   ],
   "source": [
    "for index,number in enumerate(numbers):\n",
    "    print(index,number)"
   ]
  },
  {
   "cell_type": "code",
   "execution_count": 56,
   "id": "ba6d7f00",
   "metadata": {},
   "outputs": [
    {
     "name": "stdout",
     "output_type": "stream",
     "text": [
      "[0, 1, 2, 3, 4, 5, 6, 7, 8, 9]\n"
     ]
    }
   ],
   "source": [
    "list=[]\n",
    "\n",
    "for x in range(10):\n",
    "    list.append(x)\n",
    "\n",
    "print(list)"
   ]
  },
  {
   "cell_type": "markdown",
   "id": "c53ddf4e",
   "metadata": {},
   "source": [
    "### List Comprehension"
   ]
  },
  {
   "cell_type": "code",
   "execution_count": 57,
   "id": "c544de3e",
   "metadata": {},
   "outputs": [
    {
     "name": "stdout",
     "output_type": "stream",
     "text": [
      "[0, 1, 2, 3, 4, 5, 6, 7, 8, 9]\n"
     ]
    }
   ],
   "source": [
    "list=[x for x in range(10)]\n",
    "print(list)"
   ]
  },
  {
   "cell_type": "code",
   "execution_count": 58,
   "id": "cbfa6c89",
   "metadata": {},
   "outputs": [
    {
     "name": "stdout",
     "output_type": "stream",
     "text": [
      "[0, 1, 4, 9, 16, 25, 36, 49, 64, 81]\n"
     ]
    }
   ],
   "source": [
    "square=[n**2 for n in range(10)]\n",
    "print(square)"
   ]
  },
  {
   "cell_type": "markdown",
   "id": "d8f0cf69",
   "metadata": {},
   "source": [
    "### List Comprehension with condition -"
   ]
  },
  {
   "cell_type": "code",
   "execution_count": 59,
   "id": "994f5d78",
   "metadata": {},
   "outputs": [
    {
     "name": "stdout",
     "output_type": "stream",
     "text": [
      "[0, 2, 4, 6, 8]\n"
     ]
    }
   ],
   "source": [
    "list=[num for num in range(10) if num%2==0]\n",
    "print(list)"
   ]
  },
  {
   "cell_type": "code",
   "execution_count": 60,
   "id": "0284d8e4",
   "metadata": {},
   "outputs": [
    {
     "name": "stdout",
     "output_type": "stream",
     "text": [
      "[0, 2, 4, 6, 8]\n"
     ]
    }
   ],
   "source": [
    "list=[]\n",
    "\n",
    "for num in range(10):\n",
    "    if num%2==0:\n",
    "        list.append(num)\n",
    "\n",
    "print(list)"
   ]
  },
  {
   "cell_type": "markdown",
   "id": "723bbc7d",
   "metadata": {},
   "source": [
    "### Nested Listed comprehension -"
   ]
  },
  {
   "cell_type": "code",
   "execution_count": 77,
   "id": "2e590067",
   "metadata": {},
   "outputs": [
    {
     "name": "stdout",
     "output_type": "stream",
     "text": [
      "[[0, 5], [0, 6], [0, 7], [0, 8], [0, 9], [1, 5], [1, 6], [1, 7], [1, 8], [1, 9], [2, 5], [2, 6], [2, 7], [2, 8], [2, 9], [3, 5], [3, 6], [3, 7], [3, 8], [3, 9], [4, 5], [4, 6], [4, 7], [4, 8], [4, 9]]\n"
     ]
    }
   ],
   "source": [
    "lst1=[0,1,2,3,4]\n",
    "lst2=[5,6,7,8,9]\n",
    "\n",
    "llt=[[i,j] for i in lst1 for j in lst2]\n",
    "\n",
    "print(llt)"
   ]
  },
  {
   "cell_type": "markdown",
   "id": "42becd2f",
   "metadata": {},
   "source": [
    "### List comprehension with function call-\n"
   ]
  },
  {
   "cell_type": "code",
   "execution_count": 81,
   "id": "03ab135f",
   "metadata": {},
   "outputs": [
    {
     "name": "stdout",
     "output_type": "stream",
     "text": [
      "[6, 3, 5, 7]\n"
     ]
    }
   ],
   "source": [
    "words=[\"bhavya\",\"raj\",\"singh\",\"chauhan\"]\n",
    "\n",
    "length=[len(word) for word in words]\n",
    "\n",
    "print(length)"
   ]
  },
  {
   "cell_type": "markdown",
   "id": "463f2f57",
   "metadata": {},
   "source": [
    "### Conclusion :\n",
    "\n",
    "List comprehension are most powerful and consise way to create list in python. Understanding the syntax of list comprehension will help you write cleaner and more efficient python code."
   ]
  }
 ],
 "metadata": {
  "kernelspec": {
   "display_name": "Python 3",
   "language": "python",
   "name": "python3"
  },
  "language_info": {
   "codemirror_mode": {
    "name": "ipython",
    "version": 3
   },
   "file_extension": ".py",
   "mimetype": "text/x-python",
   "name": "python",
   "nbconvert_exporter": "python",
   "pygments_lexer": "ipython3",
   "version": "3.12.0"
  }
 },
 "nbformat": 4,
 "nbformat_minor": 5
}
